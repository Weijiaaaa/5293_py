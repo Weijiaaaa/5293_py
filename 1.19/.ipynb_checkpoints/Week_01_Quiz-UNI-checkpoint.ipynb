{
 "cells": [
  {
   "cell_type": "markdown",
   "id": "cf471d8e",
   "metadata": {},
   "source": [
    "# 1. System Setup"
   ]
  },
  {
   "cell_type": "code",
   "execution_count": 1,
   "id": "39f8acba",
   "metadata": {},
   "outputs": [
    {
     "name": "stdout",
     "output_type": "stream",
     "text": [
      "python version: 3.9.7 (default, Sep 16 2021, 16:59:28) [MSC v.1916 64 bit (AMD64)]\n",
      "pandas version: 1.3.4\n",
      "sklearn version: 0.24.2\n",
      "pandas path: ['D:\\\\ProgramFiles\\\\Anaconda\\\\lib\\\\site-packages\\\\pandas']\n"
     ]
    }
   ],
   "source": [
    "import sys\n",
    "import pandas\n",
    "import sklearn\n",
    "print('python version:',sys.version)\n",
    "print('pandas version:',pandas.__version__)\n",
    "print('sklearn version:',sklearn.__version__)\n",
    "print('pandas path:',pandas.__path__)\n"
   ]
  },
  {
   "cell_type": "markdown",
   "id": "412a2115",
   "metadata": {},
   "source": [
    "# 2. Survey"
   ]
  },
  {
   "cell_type": "markdown",
   "id": "06e288ac",
   "metadata": {},
   "source": [
    "## Please fill in the survey, and print DONE the survey for EODS\n",
    "\n",
    "[Course Survey](https://forms.gle/9Evf6NcPA1yE94526)\n",
    "\n",
    "- Write simple code to \"print(\"I have DONE the survey for EODS, my UNI is: {}\")\" in .\\tmp\\survey_response.py (fill in the {} with your UNI)\n",
    "- run the survey_response.py"
   ]
  }
 ],
 "metadata": {
  "kernelspec": {
   "display_name": "Python 3 (ipykernel)",
   "language": "python",
   "name": "python3"
  },
  "language_info": {
   "codemirror_mode": {
    "name": "ipython",
    "version": 3
   },
   "file_extension": ".py",
   "mimetype": "text/x-python",
   "name": "python",
   "nbconvert_exporter": "python",
   "pygments_lexer": "ipython3",
   "version": "3.9.7"
  }
 },
 "nbformat": 4,
 "nbformat_minor": 5
}
