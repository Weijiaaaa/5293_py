{
 "cells": [
  {
   "cell_type": "markdown",
   "metadata": {
    "slideshow": {
     "slide_type": "subslide"
    }
   },
   "source": [
    "# \n",
    "## <center>Elements Of Data Science - S2022</center>\n",
    "# <center>Introduction</center>\n",
    "### <center>1/18/2022</center>"
   ]
  },
  {
   "cell_type": "markdown",
   "metadata": {
    "slideshow": {
     "slide_type": "slide"
    }
   },
   "source": [
    "# Who am I?\n",
    "\n",
    "Haiyuan Wang, Ph.D.\n",
    "\n",
    "- B.S. Engineering, Tongji University, Shanghai, China \n",
    "- M.S., Ph.D. Operations Research and Statistics, Rensselaer Polytechnic Institute, Troy, NY \n",
    "- Multiple years of modeling and research experience in financial companies including Morgan Stanley and BlackRock. \n",
    "- Adjunct faculty in Applied Analytics, DSI, and Statistics since 2016. \n"
   ]
  },
  {
   "cell_type": "markdown",
   "metadata": {
    "slideshow": {
     "slide_type": "slide"
    }
   },
   "source": [
    "# Acknowledgement\n",
    "\n",
    "Jake VanderPlas\n",
    "- Fantastic textbook on Data Science\n",
    "\n",
    "Aurelien Geron\n",
    "- Fantastic textbook on Applied Machine Learning\n",
    "\n",
    "Bryan Gibson, Ph.D.\n",
    "- Developed this course\n",
    "- Have used and enhanced this set of materials for multiple years"
   ]
  },
  {
   "cell_type": "markdown",
   "metadata": {
    "slideshow": {
     "slide_type": "slide"
    }
   },
   "source": [
    "# Who is this course for?"
   ]
  },
  {
   "cell_type": "markdown",
   "metadata": {
    "slideshow": {
     "slide_type": "fragment"
    }
   },
   "source": [
    "## People new to one of:"
   ]
  },
  {
   "cell_type": "markdown",
   "metadata": {
    "slideshow": {
     "slide_type": "fragment"
    }
   },
   "source": [
    "- Python"
   ]
  },
  {
   "cell_type": "markdown",
   "metadata": {
    "slideshow": {
     "slide_type": "fragment"
    }
   },
   "source": [
    "- Data Science Python libraries"
   ]
  },
  {
   "cell_type": "markdown",
   "metadata": {
    "slideshow": {
     "slide_type": "fragment"
    }
   },
   "source": [
    "- Visualization"
   ]
  },
  {
   "cell_type": "markdown",
   "metadata": {
    "slideshow": {
     "slide_type": "fragment"
    }
   },
   "source": [
    "- Hypothesis Testing"
   ]
  },
  {
   "cell_type": "markdown",
   "metadata": {
    "slideshow": {
     "slide_type": "fragment"
    }
   },
   "source": [
    "- Machine Learning"
   ]
  },
  {
   "cell_type": "markdown",
   "metadata": {
    "slideshow": {
     "slide_type": "slide"
    }
   },
   "source": [
    "# What will we be covering?\n",
    "<br>"
   ]
  },
  {
   "cell_type": "markdown",
   "metadata": {
    "cell_style": "center",
    "slideshow": {
     "slide_type": "fragment"
    }
   },
   "source": [
    "- Python DS tools\n",
    "\n",
    "- Data exploration and visualization\n",
    "\n",
    "- Exploratory data analysis and hypothesis testing\n",
    "\n",
    "- Data manipulation, cleaning and transformation\n",
    "\n",
    "- Predictive modeling using ML"
   ]
  },
  {
   "cell_type": "markdown",
   "metadata": {
    "slideshow": {
     "slide_type": "slide"
    }
   },
   "source": [
    "# What will we be covering? (cont)"
   ]
  },
  {
   "cell_type": "markdown",
   "metadata": {
    "cell_style": "center",
    "slideshow": {
     "slide_type": "fragment"
    }
   },
   "source": [
    "- Regression \n",
    "\n",
    "- Decision trees and ensemble methods \n",
    "\n",
    "- Support vector machines \n",
    "\n",
    "- Clustering \n",
    "\n",
    "- Dimensionality reduction\n",
    "\n",
    "- Natural Language Processing and topic modeling\n",
    "\n",
    "- Dealing with time series data\n",
    "\n",
    "- Recommendation engines\n",
    "\n",
    "- Interacting with databases"
   ]
  },
  {
   "cell_type": "markdown",
   "metadata": {
    "cell_style": "center",
    "slideshow": {
     "slide_type": "slide"
    }
   },
   "source": [
    "# Logistics\n",
    "\n",
    "<br/>\n",
    "\n",
    "**Email**: hw2592@columbia.edu\n",
    "\n",
    "**TA**: Yufan Cao, yc3906@columbia.edu\n",
    "\n",
    "**Office Hours**: TBD on canvas"
   ]
  },
  {
   "cell_type": "markdown",
   "metadata": {
    "cell_style": "center",
    "slideshow": {
     "slide_type": "slide"
    }
   },
   "source": [
    "# Course Materials"
   ]
  },
  {
   "cell_type": "markdown",
   "metadata": {
    "cell_style": "center",
    "slideshow": {
     "slide_type": "fragment"
    }
   },
   "source": [
    "- Course Website via Courseworks:<br/>\n",
    "https://courseworks2.columbia.edu/courses/136835"
   ]
  },
  {
   "cell_type": "markdown",
   "metadata": {
    "slideshow": {
     "slide_type": "slide"
    }
   },
   "source": [
    "# Slides"
   ]
  },
  {
   "cell_type": "markdown",
   "metadata": {
    "slideshow": {
     "slide_type": "fragment"
    }
   },
   "source": [
    "- written using Jupyter Notebook + RISE + reveal.js\n",
    "    - open .ipynb in jupyter"
   ]
  },
  {
   "cell_type": "markdown",
   "metadata": {
    "slideshow": {
     "slide_type": "fragment"
    }
   },
   "source": [
    "- also saved as pdf (slides_pdf folder)\n",
    "  - open in a pdf viewer (acrobat, evince, etc.)"
   ]
  },
  {
   "cell_type": "markdown",
   "metadata": {
    "slideshow": {
     "slide_type": "slide"
    }
   },
   "source": [
    "# Textbooks\n",
    "- (PDSH) **Python Data Science Handbook** by Jake VanderPlas\n",
    " - <a href=\"https://jakevdp.github.io/PythonDataScienceHandbook/\">Free online</a>\n",
    "- (HOML) **Hands-On Machine Learning with Scikit-Learn, Keras, and TensorFlow: Concepts, Tools, and Techniques to Build Intelligent Systems (2nd Edition)** by Aurelien Geron \n",
    " - <a href=\"https://www.amazon.com/Hands-Machine-Learning-Scikit-Learn-TensorFlow/dp/1492032646\">Via Amazon</a>\n",
    " - <a href=\"https://github.com/ageron/handson-ml2\">Associated Github repo</a>\n",
    "<center><img src=\"images/book_covers_s22.png\" width=\"300\" height = \"300\" align=\"center\"/></center>\n",
    "   "
   ]
  },
  {
   "cell_type": "markdown",
   "metadata": {
    "slideshow": {
     "slide_type": "slide"
    }
   },
   "source": [
    "# Other Useful Texts\n",
    "\n",
    "- **Python Machine Learning (3rd Edition)** by Raschka and Mirjalili\n",
    "- **Data Science from Scratch, 2nd Ed.** by Joel Grus\n",
    "- **Python for Data Analytics** by Wes McKinney\n",
    "- **Practical Statistics for Data Scientists** by Bruce and Bruce"
   ]
  },
  {
   "cell_type": "markdown",
   "metadata": {
    "slideshow": {
     "slide_type": "slide"
    }
   },
   "source": [
    "# Additional Resources\n",
    "\n",
    "- See the course website..."
   ]
  },
  {
   "cell_type": "markdown",
   "metadata": {
    "slideshow": {
     "slide_type": "slide"
    }
   },
   "source": [
    "# Quizzes, Homeworks and Exams"
   ]
  },
  {
   "cell_type": "markdown",
   "metadata": {
    "slideshow": {
     "slide_type": "fragment"
    }
   },
   "source": [
    "- **Potentially Weekly Quiz**, submit online, graded on completion\n",
    " - 20% of grade, equally weighted\n",
    " - **no late days**"
   ]
  },
  {
   "cell_type": "markdown",
   "metadata": {
    "slideshow": {
     "slide_type": "fragment"
    }
   },
   "source": [
    "- **4 Homework Assignments**, submit online, equally weighted\n",
    " - 30% of grade, equally weighted\n",
    " - **no late days**"
   ]
  },
  {
   "cell_type": "markdown",
   "metadata": {
    "slideshow": {
     "slide_type": "fragment"
    }
   },
   "source": [
    "- **Two projects** (end of March, and Beginning of May) 30% of grade"
   ]
  },
  {
   "cell_type": "markdown",
   "metadata": {
    "slideshow": {
     "slide_type": "fragment"
    }
   },
   "source": [
    "- **Final Exam** (end of Semester) 20% of grade"
   ]
  },
  {
   "cell_type": "markdown",
   "metadata": {
    "slideshow": {
     "slide_type": "slide"
    }
   },
   "source": [
    "# Course\n",
    "\n",
    "- In-class and online (see course page for zoom recordings)\n",
    "- Use Canvas Discussion for questions or email \n",
    "- Zoom office hours"
   ]
  },
  {
   "cell_type": "markdown",
   "metadata": {
    "slideshow": {
     "slide_type": "slide"
    }
   },
   "source": [
    "\n",
    "# Expectations\n",
    "\n",
    "- Attend/view the weekly lecture\n",
    "- Ask/answer questions via Canvas or email\n",
    "- Attend Office Hours for additional help\n",
    "- Complete all quizzes and homeworks on time\n",
    "- Hopefully learn enough to get through a junior DS job interview\n"
   ]
  },
  {
   "cell_type": "markdown",
   "metadata": {
    "slideshow": {
     "slide_type": "slide"
    }
   },
   "source": [
    "# Plagarism and Code copying"
   ]
  },
  {
   "cell_type": "markdown",
   "metadata": {
    "slideshow": {
     "slide_type": "fragment"
    }
   },
   "source": [
    "- Homeworks may be checked for plagiarism\n",
    "\n",
    "- Copied code will result in 0 points for all involved\n",
    "\n",
    "- Copying from my slides or online sources, not recommended but common practice"
   ]
  },
  {
   "cell_type": "markdown",
   "metadata": {
    "slideshow": {
     "slide_type": "slide"
    }
   },
   "source": [
    "# <center>Questions re Logistics?</center>"
   ]
  },
  {
   "cell_type": "markdown",
   "metadata": {
    "slideshow": {
     "slide_type": "slide"
    }
   },
   "source": [
    "# What is Data Science?"
   ]
  },
  {
   "cell_type": "markdown",
   "metadata": {
    "slideshow": {
     "slide_type": "fragment"
    }
   },
   "source": [
    "Data science, also known as data-driven science, is **an interdisciplinary field** about \n",
    "scientific methods, processes, and systems **to extract knowledge or insights from data \n",
    "in various forms**, either structured or unstructured, similar to data mining.\n",
    "<br><br>\n",
    "[https://en.wikipedia.org/wiki/Data_science](https://en.wikipedia.org/wiki/Data_science)"
   ]
  },
  {
   "cell_type": "markdown",
   "metadata": {
    "slideshow": {
     "slide_type": "slide"
    }
   },
   "source": [
    "# What is Data Science?\n",
    "<br>\n",
    "<center><img src=\"images/Data_Science_VD.png\" width=400></center>\n",
    "<br>\n",
    "http://drewconway.com/zia/2013/3/26/the-data-science-venn-diagram"
   ]
  },
  {
   "cell_type": "markdown",
   "metadata": {
    "slideshow": {
     "slide_type": "slide"
    }
   },
   "source": [
    "# Data Science $\\neq$ Magic"
   ]
  },
  {
   "cell_type": "markdown",
   "metadata": {
    "slideshow": {
     "slide_type": "fragment"
    }
   },
   "source": [
    "- \"Can we find something in this data?\" **Yes**"
   ]
  },
  {
   "cell_type": "markdown",
   "metadata": {
    "slideshow": {
     "slide_type": "fragment"
    }
   },
   "source": [
    "- \"Will it solve our business problem?\" **Maybe**"
   ]
  },
  {
   "cell_type": "markdown",
   "metadata": {
    "slideshow": {
     "slide_type": "fragment"
    }
   },
   "source": [
    "- \"Will it be easy?\" **Probably not**"
   ]
  },
  {
   "cell_type": "markdown",
   "metadata": {
    "slideshow": {
     "slide_type": "slide"
    }
   },
   "source": [
    "# Data Science Workflow"
   ]
  },
  {
   "cell_type": "markdown",
   "metadata": {
    "slideshow": {
     "slide_type": "fragment"
    }
   },
   "source": [
    "- Business Need $\\rightarrow$"
   ]
  },
  {
   "cell_type": "markdown",
   "metadata": {
    "slideshow": {
     "slide_type": "fragment"
    }
   },
   "source": [
    "- DS Question $\\rightarrow$"
   ]
  },
  {
   "cell_type": "markdown",
   "metadata": {
    "slideshow": {
     "slide_type": "fragment"
    }
   },
   "source": [
    "- **E**xtract-**T**ransform-**L**oad (ETL)$\\rightarrow$"
   ]
  },
  {
   "cell_type": "markdown",
   "metadata": {
    "slideshow": {
     "slide_type": "fragment"
    }
   },
   "source": [
    "- Experimentation $\\rightarrow$"
   ]
  },
  {
   "cell_type": "markdown",
   "metadata": {
    "slideshow": {
     "slide_type": "fragment"
    }
   },
   "source": [
    "- API/Tool Creation $\\rightarrow$"
   ]
  },
  {
   "cell_type": "markdown",
   "metadata": {
    "slideshow": {
     "slide_type": "fragment"
    }
   },
   "source": [
    "- Reporting"
   ]
  },
  {
   "cell_type": "markdown",
   "metadata": {
    "slideshow": {
     "slide_type": "slide"
    }
   },
   "source": [
    "# Important Before You Start!\n",
    "<br>\n",
    "<br>"
   ]
  },
  {
   "cell_type": "markdown",
   "metadata": {
    "slideshow": {
     "slide_type": "fragment"
    }
   },
   "source": [
    "1. What's the question?"
   ]
  },
  {
   "cell_type": "markdown",
   "metadata": {
    "slideshow": {
     "slide_type": "fragment"
    }
   },
   "source": [
    "2. What does success look like?"
   ]
  },
  {
   "cell_type": "markdown",
   "metadata": {
    "slideshow": {
     "slide_type": "fragment"
    }
   },
   "source": [
    "3. How are we going to measure it?\n",
    "<br>\n",
    "<br>"
   ]
  },
  {
   "cell_type": "markdown",
   "metadata": {
    "slideshow": {
     "slide_type": "slide"
    }
   },
   "source": [
    "# Example DS Projects\n",
    "\n",
    "- [Machine Bias in Criminal Sentencing, Propublica](https://github.com/propublica/compas-analysis)\n",
    "\n",
    "- [Analysis of OkCupid Data](https://nbviewer.jupyter.org/github/lalelale/profiles_analysis/blob/master/profiles.ipynb)\n",
    "\n",
    "- [David Bowie Job Mentions](https://twitter.com/AndyRileyish/status/1170765576878329857?s=20)\n",
    "\n",
    "- [NYC Crash Mapper](http://crashmapper.org/#/?cfat=true&cinj=true&endDate=2019-07&geo=citywide&identifier=&lat=40.763121171621314&lng=-73.94588470458984&lngLats=%255B%255D&mfat=true&minj=true&noInjFat=false&pfat=true&pinj=true&startDate=2019-07&zoom=12)\n",
    "\n",
    "- [NeurIPS 2019 Acceptance Stats](https://medium.com/@dcharrezt/neurips-2019-stats-c91346d31c8f)\n",
    "\n",
    "- Demo: Example Flowershop"
   ]
  },
  {
   "cell_type": "markdown",
   "metadata": {
    "slideshow": {
     "slide_type": "slide"
    }
   },
   "source": [
    "<br>\n",
    "<br>\n",
    "\n",
    "# <center>Questions?<center>\n",
    "<br>"
   ]
  }
 ],
 "metadata": {
  "celltoolbar": "Slideshow",
  "kernelspec": {
   "display_name": "Python 3 (ipykernel)",
   "language": "python",
   "name": "python3"
  },
  "language_info": {
   "codemirror_mode": {
    "name": "ipython",
    "version": 3
   },
   "file_extension": ".py",
   "mimetype": "text/x-python",
   "name": "python",
   "nbconvert_exporter": "python",
   "pygments_lexer": "ipython3",
   "version": "3.9.7"
  }
 },
 "nbformat": 4,
 "nbformat_minor": 4
}
